{
 "cells": [
  {
   "cell_type": "markdown",
   "id": "75c97ed2-de44-45bb-8874-21a1062261c0",
   "metadata": {},
   "source": [
    "Q1. Which function is used to open a file? What are the different modes of opening a file? Explain each mode of file opening."
   ]
  },
  {
   "cell_type": "markdown",
   "id": "b65463ce-0cd1-4d28-9940-002722df84b2",
   "metadata": {},
   "source": [
    "In Python, the open() function is used to open a file. It takes two parameters: the filename (including the path if necessary) and the mode in which the file should be opened.\n",
    "\n",
    "Here are the different modes in which a file can be opened:\n",
    "\n",
    "1. 'r' (read mode): This mode is used to open a file for reading only. If the file does not exist, it will raise a FileNotFoundError exception.\n",
    "\n",
    "2. 'w' (write mode): This mode is used to open a file for writing. If the file already exists, it will be truncated (i.e., all its contents will be deleted) before writing. If the file does not exist, a new file will be created.\n",
    "\n",
    "3. 'a' (append mode): This mode is used to open a file for writing, but it does not truncate the file. Instead, it appends any new data to the end of the file. If the file does not exist, a new file will be created.\n",
    "\n",
    "4. 'x' (exclusive creation mode): This mode is used to open a file for writing, but only if it does not already exist. If the file already exists, it will raise a FileExistsError exception.\n",
    "\n",
    "5. 'b' (binary mode): This mode is used to open a file in binary mode. It is usually used with the other modes, such as 'rb' (read binary mode) or 'wb' (write binary mode).\n",
    "\n",
    "6. 't' (text mode): This mode is used to open a file in text mode, which is the default. It is usually used with the other modes, such as 'rt' (read text mode) or 'wt' (write text mode).\n",
    "\n",
    "7. '+' (read/write mode): This mode is used to open a file for both reading and writing. It is usually used with other modes, such as 'r+' (read/write mode) or 'w+' (write/read mode)."
   ]
  },
  {
   "cell_type": "markdown",
   "id": "27ec4f16-d38f-42d1-9e1f-fa7fdfa4558c",
   "metadata": {},
   "source": [
    "Q2. Why close() function is used? Why is it important to close a file?"
   ]
  },
  {
   "cell_type": "markdown",
   "id": "fd401d68-596a-4edd-907f-bf2646b50715",
   "metadata": {},
   "source": [
    "The close() function is used to close a file that was opened using the open() function. It is important to close a file once you have finished working with it because it ensures that any data that was buffered in memory is written to the file, and any system resources that were being used by the file are freed up.\n",
    "\n",
    "When you open a file, the operating system allocates resources such as file descriptors and buffer memory to manage the file. If you keep a file open for a long time without closing it, these resources may become exhausted and can cause problems such as slowdowns, memory leaks, or even crashes.\n",
    "\n",
    "In addition to freeing up system resources, closing a file also ensures that any changes you made to the file are actually written to disk. When you write data to a file, it is often buffered in memory first, which means that it is not immediately written to the file on disk. If you do not close the file, this buffered data may not be written to the file at all, resulting in lost or corrupted data."
   ]
  },
  {
   "cell_type": "markdown",
   "id": "a9e004c7-ff29-491e-b1c7-402a870c4c63",
   "metadata": {},
   "source": [
    "Q3. Write a python program to create a text file. Write ‘I want to become a Data Scientist’ in that file. Then close the file. Open this file and read the content of the file."
   ]
  },
  {
   "cell_type": "code",
   "execution_count": 2,
   "id": "62d6c1e7-dfd0-492f-8eb9-763524beaf65",
   "metadata": {},
   "outputs": [],
   "source": [
    "import io"
   ]
  },
  {
   "cell_type": "code",
   "execution_count": 9,
   "id": "8e6c7fef-fb8c-4082-b13c-7933d2ce4156",
   "metadata": {},
   "outputs": [],
   "source": [
    "f=open(\"test.txt\", 'w')"
   ]
  },
  {
   "cell_type": "code",
   "execution_count": 10,
   "id": "ae790ee0-45bd-4fc5-bbf0-8ce2b12269b5",
   "metadata": {},
   "outputs": [
    {
     "data": {
      "text/plain": [
       "33"
      ]
     },
     "execution_count": 10,
     "metadata": {},
     "output_type": "execute_result"
    }
   ],
   "source": [
    "f.write(\"I want to become a Data Scientist\")"
   ]
  },
  {
   "cell_type": "code",
   "execution_count": 11,
   "id": "e40934e7-a720-4a52-a7d4-ccd71e1e4f8c",
   "metadata": {},
   "outputs": [],
   "source": [
    "f.close()"
   ]
  },
  {
   "cell_type": "code",
   "execution_count": 17,
   "id": "b03bbb6c-54c7-4794-b3e8-6b69abca97e6",
   "metadata": {},
   "outputs": [
    {
     "data": {
      "text/plain": [
       "'I want to become a Data Scientist'"
      ]
     },
     "execution_count": 17,
     "metadata": {},
     "output_type": "execute_result"
    }
   ],
   "source": [
    "f=open(\"test.txt\", 'r')\n",
    "f.read()"
   ]
  },
  {
   "cell_type": "markdown",
   "id": "eb11d403-d347-4d80-84c1-619b06129203",
   "metadata": {},
   "source": [
    "Q4. Explain the following with python code: read(), readline() and readlines()."
   ]
  },
  {
   "cell_type": "code",
   "execution_count": 29,
   "id": "2370011d-30ef-4550-8b12-b50f60dd4c1e",
   "metadata": {},
   "outputs": [],
   "source": [
    "f=open(\"test2.txt\", 'a')"
   ]
  },
  {
   "cell_type": "code",
   "execution_count": 30,
   "id": "1a97b570-5774-4d4a-8969-4b73f436a462",
   "metadata": {},
   "outputs": [
    {
     "data": {
      "text/plain": [
       "2"
      ]
     },
     "execution_count": 30,
     "metadata": {},
     "output_type": "execute_result"
    }
   ],
   "source": [
    "f.write(\"I\\n\")"
   ]
  },
  {
   "cell_type": "code",
   "execution_count": 31,
   "id": "77d39539-db1c-4298-b47b-05f9384c601b",
   "metadata": {},
   "outputs": [
    {
     "data": {
      "text/plain": [
       "5"
      ]
     },
     "execution_count": 31,
     "metadata": {},
     "output_type": "execute_result"
    }
   ],
   "source": [
    "f.write(\"want\\n\")"
   ]
  },
  {
   "cell_type": "code",
   "execution_count": 32,
   "id": "cc1419b8-1d99-4f7b-b621-50aa6f975e66",
   "metadata": {},
   "outputs": [
    {
     "data": {
      "text/plain": [
       "2"
      ]
     },
     "execution_count": 32,
     "metadata": {},
     "output_type": "execute_result"
    }
   ],
   "source": [
    "f.write(\"to\")"
   ]
  },
  {
   "cell_type": "code",
   "execution_count": 33,
   "id": "b0a99e47-5abe-45d9-a809-4efd321f53b7",
   "metadata": {},
   "outputs": [
    {
     "data": {
      "text/plain": [
       "7"
      ]
     },
     "execution_count": 33,
     "metadata": {},
     "output_type": "execute_result"
    }
   ],
   "source": [
    "f.write(\"become\\n\")"
   ]
  },
  {
   "cell_type": "code",
   "execution_count": 34,
   "id": "ec992b0e-bb02-4bb4-8e80-cdb83c766634",
   "metadata": {},
   "outputs": [
    {
     "data": {
      "text/plain": [
       "2"
      ]
     },
     "execution_count": 34,
     "metadata": {},
     "output_type": "execute_result"
    }
   ],
   "source": [
    "f.write(\"a\\n\")"
   ]
  },
  {
   "cell_type": "code",
   "execution_count": 35,
   "id": "a8bdd2ec-c887-4c23-9356-7a4308215d6c",
   "metadata": {},
   "outputs": [
    {
     "data": {
      "text/plain": [
       "5"
      ]
     },
     "execution_count": 35,
     "metadata": {},
     "output_type": "execute_result"
    }
   ],
   "source": [
    "f.write(\"Data\\n\")"
   ]
  },
  {
   "cell_type": "code",
   "execution_count": 36,
   "id": "a84eed3b-9360-4a64-bdc8-e19f4c4c0eb7",
   "metadata": {},
   "outputs": [
    {
     "data": {
      "text/plain": [
       "9"
      ]
     },
     "execution_count": 36,
     "metadata": {},
     "output_type": "execute_result"
    }
   ],
   "source": [
    "f.write(\"Scientist\")"
   ]
  },
  {
   "cell_type": "code",
   "execution_count": 37,
   "id": "0680952d-ce4a-4e88-85df-79905a68a869",
   "metadata": {},
   "outputs": [],
   "source": [
    "f.close()"
   ]
  },
  {
   "cell_type": "markdown",
   "id": "48174298-8b03-4ec6-ba66-048e2761e47b",
   "metadata": {},
   "source": [
    "1. read(): This method reads the entire contents of a file as a single string."
   ]
  },
  {
   "cell_type": "code",
   "execution_count": 44,
   "id": "f008fa2f-61ca-47be-a9f3-c3ae2b5ddd7e",
   "metadata": {},
   "outputs": [
    {
     "name": "stdout",
     "output_type": "stream",
     "text": [
      "I\n",
      "want\n",
      "tobecome\n",
      "a\n",
      "Data\n",
      "Scientist\n"
     ]
    }
   ],
   "source": [
    "with open('test2.txt', 'r') as file:\n",
    "    contents = file.read()\n",
    "    print(contents)"
   ]
  },
  {
   "cell_type": "markdown",
   "id": "6f783cde-013d-4cc5-b33e-dd02700f97fa",
   "metadata": {},
   "source": [
    "2. readline(): This method reads a single line from a file and returns it as a string."
   ]
  },
  {
   "cell_type": "code",
   "execution_count": 43,
   "id": "c16e98aa-ca8b-4882-a667-d2186471c78a",
   "metadata": {},
   "outputs": [
    {
     "name": "stdout",
     "output_type": "stream",
     "text": [
      "I\n",
      "\n"
     ]
    }
   ],
   "source": [
    "with open('test2.txt', 'r') as file:\n",
    "    line = file.readline()\n",
    "    print(line)"
   ]
  },
  {
   "cell_type": "markdown",
   "id": "15032d6f-14ec-471d-8d78-4cede50f88db",
   "metadata": {},
   "source": [
    "3. readlines(): This method reads the entire contents of a file and returns them as a list of strings, where each string represents a single line of the file."
   ]
  },
  {
   "cell_type": "code",
   "execution_count": 42,
   "id": "3d78ef2b-27f6-4274-b1fb-78902904c4e0",
   "metadata": {},
   "outputs": [
    {
     "name": "stdout",
     "output_type": "stream",
     "text": [
      "I\n",
      "\n",
      "want\n",
      "\n",
      "tobecome\n",
      "\n",
      "a\n",
      "\n",
      "Data\n",
      "\n",
      "Scientist\n"
     ]
    }
   ],
   "source": [
    "with open('test2.txt', 'r') as file:\n",
    "    lines = file.readlines()\n",
    "    for line in lines:\n",
    "        print(line)"
   ]
  },
  {
   "cell_type": "markdown",
   "id": "77af5bd4-4b81-4611-86d5-1af192ecaede",
   "metadata": {},
   "source": [
    "Q5. Explain why with statement is used with open(). What is the advantage of using with statement and open() together?"
   ]
  },
  {
   "cell_type": "markdown",
   "id": "944c5df4-f926-4d9b-8824-4b80655f74af",
   "metadata": {},
   "source": [
    "The with statement is used with the open() function to ensure that files are automatically closed after they have been used. When you open a file using the open() function, it creates a file object and allocates system resources, such as file descriptors and buffer memory, to manage the file. It's important to close the file once you have finished working with it, so that these resources are released and can be used by other parts of your program or by other programs running on the system."
   ]
  },
  {
   "cell_type": "markdown",
   "id": "7ee7110e-0e6d-4c4d-9234-fb2561b49bf4",
   "metadata": {},
   "source": [
    "The advantage of using the with statement and open() function together is that it simplifies your code and ensures that your files are always properly closed. It's easy to forget to close a file manually, especially in more complex programs with multiple functions or threads. By using the with statement with the open() function, you can avoid this potential problem and make your code more robust and reliable."
   ]
  },
  {
   "cell_type": "markdown",
   "id": "f8dc2fdd-e900-44ae-8c79-6347b89bc60d",
   "metadata": {},
   "source": [
    "Q6. Explain the write() and writelines() functions. Give a suitable example."
   ]
  },
  {
   "cell_type": "markdown",
   "id": "3d337206-3ab9-40d4-b57b-138bd6c3e263",
   "metadata": {},
   "source": [
    "Both write() and writelines() functions are useful when you need to write data to a file in your Python code. Use write() when you need to write a single string to the file and writelines() when you need to write a list of strings to the file."
   ]
  },
  {
   "cell_type": "code",
   "execution_count": 45,
   "id": "6847ec4e-7c24-4c1f-bb0f-80f41b6bdcfc",
   "metadata": {},
   "outputs": [],
   "source": [
    "with open('example1.txt', 'w') as file:\n",
    "    lines = ['Hello', 'world', 'how', 'are', 'you']\n",
    "    file.writelines(lines)"
   ]
  },
  {
   "cell_type": "code",
   "execution_count": 46,
   "id": "3a929f77-4ee7-4606-95ae-6838126f8b26",
   "metadata": {},
   "outputs": [],
   "source": [
    "with open('example2.txt', 'w') as file:\n",
    "    lines = ['Hello', 'world', 'how', 'are', 'you']\n",
    "    file.writelines(lines)"
   ]
  },
  {
   "cell_type": "markdown",
   "id": "e6a61775-e60e-4c6a-aa3f-38b13c176971",
   "metadata": {},
   "source": [
    "It's important to note that the write() and writelines() functions do not automatically add line breaks to the end of each line, so if you want to write a multi-line file, you will need to add \\n (the newline character) to the end of each string."
   ]
  },
  {
   "cell_type": "code",
   "execution_count": null,
   "id": "231c13d4-d22a-4ee7-b5e2-a9d0fb570ec2",
   "metadata": {},
   "outputs": [],
   "source": []
  }
 ],
 "metadata": {
  "kernelspec": {
   "display_name": "Python 3 (ipykernel)",
   "language": "python",
   "name": "python3"
  },
  "language_info": {
   "codemirror_mode": {
    "name": "ipython",
    "version": 3
   },
   "file_extension": ".py",
   "mimetype": "text/x-python",
   "name": "python",
   "nbconvert_exporter": "python",
   "pygments_lexer": "ipython3",
   "version": "3.9.13"
  }
 },
 "nbformat": 4,
 "nbformat_minor": 5
}
